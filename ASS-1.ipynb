{
 "cells": [
  {
   "cell_type": "code",
   "execution_count": 3,
   "id": "aefe58c6-46dd-43c9-87bd-bc3d8926719f",
   "metadata": {},
   "outputs": [
    {
     "name": "stdin",
     "output_type": "stream",
     "text": [
      "Enter the first number: 10\n",
      "Enter the second number: 3\n"
     ]
    },
    {
     "name": "stdout",
     "output_type": "stream",
     "text": [
      "Addition: 13\n",
      "Subtraction: 7\n",
      "Multiplication: 30\n",
      "Division: 3.3333333333333335\n",
      "Modulus: 1\n",
      "Exponentiation: 1000\n",
      "Floor Division: 3\n"
     ]
    }
   ],
   "source": [
    "#1\n",
    "a=int(input(\"Enter the first number:\"))\n",
    "b=int(input(\"Enter the second number:\"))\n",
    "print(\"Addition:\",a+b)\n",
    "print(\"Subtraction:\",a-b)\n",
    "print(\"Multiplication:\",a*b)\n",
    "print(\"Division:\",a/b)\n",
    "print(\"Modulus:\",a%b)\n",
    "print(\"Exponentiation:\",a**b)\n",
    "print(\"Floor Division:\",a//b)"
   ]
  },
  {
   "cell_type": "code",
   "execution_count": 4,
   "id": "a36bb34e-f5fb-4219-971f-ec548f511767",
   "metadata": {},
   "outputs": [
    {
     "name": "stdin",
     "output_type": "stream",
     "text": [
      "Enter the number: 10\n",
      "Enter the number: 2\n"
     ]
    },
    {
     "name": "stdout",
     "output_type": "stream",
     "text": [
      "X is greater than Y\n"
     ]
    }
   ],
   "source": [
    "#2\n",
    "X=int(input(\"Enter the number:\"))\n",
    "Y=int(input(\"Enter the number:\"))\n",
    "if X>Y:\n",
    "    print(\"X is greater than Y\")\n",
    "elif X==Y: \n",
    "    print(\"Both X and Y are equal\")\n",
    "elif X<=Y:\n",
    "    print(\"X is less than or equal to Y\")"
   ]
  },
  {
   "cell_type": "code",
   "execution_count": 1,
   "id": "a8a1843e-7731-4b37-9325-dfb4da9e4d1b",
   "metadata": {},
   "outputs": [
    {
     "name": "stdout",
     "output_type": "stream",
     "text": [
      "False\n",
      "False\n",
      "True\n",
      "False\n",
      "True\n",
      "True\n",
      "True\n",
      "True\n",
      "False\n",
      "True\n",
      "False\n"
     ]
    }
   ],
   "source": [
    "#3\n",
    "a=True\n",
    "b=False\n",
    "c=True\n",
    "print(a and b)\n",
    "print(b and a)\n",
    "print(a and c)\n",
    "print(b and c)\n",
    "print(a or b)\n",
    "print(b or a)\n",
    "print(a or c)\n",
    "print(b or c)\n",
    "print(not a)\n",
    "print(not b)\n",
    "print(not c)"
   ]
  },
  {
   "cell_type": "code",
   "execution_count": 22,
   "id": "d1d8cd26-d491-4744-bd62-40f0feba13b0",
   "metadata": {},
   "outputs": [
    {
     "name": "stdin",
     "output_type": "stream",
     "text": [
      "Enter the string name: Sathvik\n"
     ]
    },
    {
     "name": "stdout",
     "output_type": "stream",
     "text": [
      "7\n",
      "S k\n",
      "kivhtaS\n",
      "SATHVIK\n",
      "sathvik\n"
     ]
    }
   ],
   "source": [
    "#4\n",
    "a=input(\"Enter the string name:\")\n",
    "print(len(a))\n",
    "print(a[0],a[-1])\n",
    "print(a[::-1])\n",
    "print(a.upper())\n",
    "print(a.lower())"
   ]
  },
  {
   "cell_type": "code",
   "execution_count": 16,
   "id": "fcbd4b09-22e0-499a-92a7-e6e7ff57538b",
   "metadata": {},
   "outputs": [
    {
     "name": "stdin",
     "output_type": "stream",
     "text": [
      "Enter the Name: Amar\n",
      "Enter the age: 19\n"
     ]
    },
    {
     "name": "stdout",
     "output_type": "stream",
     "text": [
      "Hello Amar you are 19 year sold\n"
     ]
    }
   ],
   "source": [
    "#5\n",
    "a=(input(\"Enter the Name:\"))\n",
    "b=(input(\"Enter the age:\"))\n",
    "print(f\"Hello {a} you are {b} year sold\")"
   ]
  },
  {
   "cell_type": "code",
   "execution_count": 2,
   "id": "2b2aaf69-5f62-4e2d-9c07-be1f44016c9f",
   "metadata": {},
   "outputs": [
    {
     "name": "stdin",
     "output_type": "stream",
     "text": [
      "Write a sentence: Roses are red\n",
      "Enter the word you want o search for: Roses\n"
     ]
    },
    {
     "name": "stdout",
     "output_type": "stream",
     "text": [
      "The word'Roses'is in the position:'0' \n"
     ]
    }
   ],
   "source": [
    "#6\n",
    "r=input(\"Write a sentence:\")\n",
    "s=input(\"Enter the word you want o search for:\")\n",
    "if s in r:\n",
    "    print(f\"The word'{s}'is in the position:'{r.index(s)}' \")\n",
    "elif s not in r:\n",
    "    print(\"the word does not exist\")\n",
    "\n",
    "    "
   ]
  },
  {
   "cell_type": "code",
   "execution_count": 6,
   "id": "45f94759-3905-4a65-9aa0-2414b4fa63c3",
   "metadata": {},
   "outputs": [
    {
     "name": "stdin",
     "output_type": "stream",
     "text": [
      "enter the number 1: 1\n",
      "enter the number 2: 2\n",
      "enter the number 3: 3\n",
      "enter the number 4: 4\n",
      "enter the number 5: 5\n"
     ]
    },
    {
     "name": "stdout",
     "output_type": "stream",
     "text": [
      "[1, 2, 3, 4, 5]\n",
      "the sum of list numbers is: 15\n",
      "the largest number in list is: 5\n",
      "the smallest number in list is: 1\n"
     ]
    }
   ],
   "source": [
    "#7\n",
    "a=int(input(\"enter the number 1:\"))\n",
    "b=int(input(\"enter the number 2:\"))\n",
    "c=int(input(\"enter the number 3:\"))\n",
    "d=int(input(\"enter the number 4:\"))\n",
    "e=int(input(\"enter the number 5:\"))\n",
    "f=[a,b,c,d,e]\n",
    "print(f)\n",
    "print(\"the sum of list numbers is:\",sum(f))\n",
    "print(\"the largest number in list is:\",max(f))\n",
    "print(\"the smallest number in list is:\",min(f))"
   ]
  },
  {
   "cell_type": "code",
   "execution_count": 16,
   "id": "3ad1f653-3e67-47b0-b879-93d8026d1ef9",
   "metadata": {},
   "outputs": [
    {
     "name": "stdout",
     "output_type": "stream",
     "text": [
      "['apple', 'banana', 'dargon fruit', 'mango', 'custard apple']\n",
      "['apple', 'banana', 'dargon fruit', 'mango', 'custard apple', 'pineapple']\n",
      "['apple', 'dargon fruit', 'mango', 'custard apple', 'pineapple']\n"
     ]
    }
   ],
   "source": [
    "#Program:8-list manipulation\n",
    "fruits=[\"apple\",\"banana\",\"dargon fruit\",\"mango\",\"custard apple\"]\n",
    "print(fruits)\n",
    "fruits.append(\"pineapple\")\n",
    "print(fruits)\n",
    "fruits.remove(\"banana\")\n",
    "print(fruits)"
   ]
  },
  {
   "cell_type": "code",
   "execution_count": 21,
   "id": "3525fff3-a618-4d51-9c72-18e29437a52b",
   "metadata": {},
   "outputs": [
    {
     "name": "stdin",
     "output_type": "stream",
     "text": [
      "Enter the number 1:  9\n",
      "Enter the number 2:  0\n",
      "Enter the number 3:  4\n",
      "Enter the number 4:  5\n",
      "Enter the number 5:  67\n"
     ]
    },
    {
     "name": "stdout",
     "output_type": "stream",
     "text": [
      "Ascending Order of the list:  [0, 4, 5, 9, 67]\n",
      "Descending Order of the list:  [67, 9, 5, 4, 0]\n"
     ]
    }
   ],
   "source": [
    "#9\n",
    "A = int(input(\"Enter the number 1: \"))\n",
    "B = int(input(\"Enter the number 2: \"))\n",
    "C = int(input(\"Enter the number 3: \"))\n",
    "D = int(input(\"Enter the number 4: \"))\n",
    "E = int(input(\"Enter the number 5: \"))\n",
    "f = [A, B, C, D, E]\n",
    "f.sort()\n",
    "print(\"Ascending Order of the list: \",f)\n",
    "f.sort(reverse=True)\n",
    "print(\"Descending Order of the list: \",f)"
   ]
  },
  {
   "cell_type": "code",
   "execution_count": 22,
   "id": "e32dd3a9-a23b-47b2-996f-73a08091a0a5",
   "metadata": {},
   "outputs": [
    {
     "name": "stdout",
     "output_type": "stream",
     "text": [
      "[1, 2, 3, 4, 5]\n",
      "[6, 7, 8, 9, 10]\n",
      "[2, 3, 4, 5, 6, 7]\n"
     ]
    }
   ],
   "source": [
    "Numbers=[1,2,3,4,5,6,7,8,9,10]\n",
    "print(Numbers[:5])\n",
    "print(Numbers[-5:])\n",
    "print(Numbers[1:7])"
   ]
  },
  {
   "cell_type": "code",
   "execution_count": null,
   "id": "b9a07f4a-f04d-4741-b4ec-5b51ca5c9e6e",
   "metadata": {},
   "outputs": [
    {
     "name": "stdin",
     "output_type": "stream",
     "text": [
      "Enter student name: Amar\n",
      "Enter score 1:  100\n",
      "Enter score 2:  90\n",
      "Enter score 3:  98\n",
      "Enter student name: Lochan\n",
      "Enter score 1:  99\n"
     ]
    }
   ],
   "source": [
    "students = []\n",
    "for _ in range(3):\n",
    "    name = input(\"Enter student name:\")\n",
    "    scores = [float(input(f\"Enter score {i+1}: \")) for i in range(3)]\n",
    "    students.append([name, scores])\n",
    "for student in students:\n",
    "    avg = sum(student[1]) / 3\n",
    "    print(student[0], \"'s average score:'\",avg)"
   ]
  },
  {
   "cell_type": "code",
   "execution_count": null,
   "id": "ac8201e2-f43c-45b4-a19d-6da9eb7acace",
   "metadata": {},
   "outputs": [],
   "source": []
  }
 ],
 "metadata": {
  "kernelspec": {
   "display_name": "Python 3 (ipykernel)",
   "language": "python",
   "name": "python3"
  },
  "language_info": {
   "codemirror_mode": {
    "name": "ipython",
    "version": 3
   },
   "file_extension": ".py",
   "mimetype": "text/x-python",
   "name": "python",
   "nbconvert_exporter": "python",
   "pygments_lexer": "ipython3",
   "version": "3.12.4"
  }
 },
 "nbformat": 4,
 "nbformat_minor": 5
}
